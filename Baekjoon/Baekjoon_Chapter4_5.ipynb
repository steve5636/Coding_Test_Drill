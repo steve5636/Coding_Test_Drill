{
 "cells": [
  {
   "cell_type": "markdown",
   "id": "fa64eabc",
   "metadata": {},
   "source": [
    "# Chapter 4 1차원 배열"
   ]
  },
  {
   "cell_type": "markdown",
   "id": "3f7177cb",
   "metadata": {},
   "source": [
    "### 10807 개수 세기\n",
    "총 N개의 정수가 주어졌을 때, 정수 v가 몇 개인지 구하는 프로그램을 작성하시오."
   ]
  },
  {
   "cell_type": "code",
   "execution_count": null,
   "id": "83d7e585",
   "metadata": {},
   "outputs": [],
   "source": [
    "num = int(input()) # 입력받는 정수의 개수\n",
    "case = list(map(int,input().split())) # 정수 입력, 공백으로 구분\n",
    "key = int(input()) # 찾으려고 하는 정수\n",
    "counter = 0\n",
    "\n",
    "for i in range(num):\n",
    "    if(case.pop()==key):\n",
    "        counter+=1\n",
    "\n",
    "print(counter)"
   ]
  },
  {
   "cell_type": "markdown",
   "id": "25902933",
   "metadata": {},
   "source": [
    "### 10871 X보다 작은 수\n",
    "정수 N개로 이루어진 수열 A와 정수 X가 주어진다. 이때, A에서 X보다 작은 수를 모두 출력하는 프로그램을 작성.\n",
    "\n",
    "- list 안의 내용물 출력할 때 포인터로 받아와서 출력\n"
   ]
  },
  {
   "cell_type": "code",
   "execution_count": null,
   "id": "3aee00c6",
   "metadata": {},
   "outputs": [],
   "source": [
    "N,X = map(int,input().split())\n",
    "a = list(map(int,input().split()))\n",
    "b = [i for i in a if X>i]\n",
    "print(*b)"
   ]
  },
  {
   "cell_type": "markdown",
   "id": "347cffb1",
   "metadata": {},
   "source": [
    "### 10818 최소, 최대\n",
    "최솟값과 최댓값을 찾는 문제\n",
    "- Python 기본 min(), max() 함수 활용"
   ]
  },
  {
   "cell_type": "code",
   "execution_count": null,
   "id": "59b53e22",
   "metadata": {},
   "outputs": [],
   "source": [
    "num = int(input())\n",
    "arr = list(map(int,input().split()))\n",
    "print(min(arr),max(arr))"
   ]
  },
  {
   "cell_type": "markdown",
   "id": "25dd6f28",
   "metadata": {},
   "source": [
    "### 2562 최댓값\n",
    "9개의 서로 다른 자연수가 주어질 때, 이들 중 최댓값을 찾고 그 최댓값이 몇 번째 수인지를 구하는 프로그램을 작성.\n",
    "- list의 원소 list.index()로 뽑아낼 수 있음, 당연하지만, index 0부터 시작 주의"
   ]
  },
  {
   "cell_type": "code",
   "execution_count": null,
   "id": "a03e3315",
   "metadata": {},
   "outputs": [],
   "source": [
    "arr=[]\n",
    "for i in range(9):\n",
    "    arr.append(int(input()))\n",
    "    \n",
    "print(max(arr))\n",
    "print(arr.index(max(arr))+1)"
   ]
  },
  {
   "cell_type": "markdown",
   "id": "da26a778",
   "metadata": {},
   "source": [
    "### 5597 과제 안 내신 분...?\n",
    "교수님이 내준 특별과제를 28명이 제출했는데, 그 중에서 제출 안 한 학생 2명의 출석번호를 구하는 프로그램."
   ]
  },
  {
   "cell_type": "code",
   "execution_count": null,
   "id": "260cbd77",
   "metadata": {},
   "outputs": [],
   "source": [
    "student = list(range(1,31))\n",
    "for i in range(28):\n",
    "    student.pop(student.index(int(input())))\n",
    "print(student[0])\n",
    "print(student[1])"
   ]
  },
  {
   "cell_type": "markdown",
   "id": "e77e5104",
   "metadata": {},
   "source": [
    "### 3052 나머지\n",
    "수 10개를 입력받은 뒤, 이를 42로 나눈 나머지를 구한다. 그 다음 서로 다른 값이 몇 개 있는지 출력하는 프로그램을 작성.\n",
    "\n",
    "- collections Counter 모듈에서 most_common() 활용\n",
    "- Counter(리스트) 리스트 원소 개수 딕셔너리 형태로 반환 ex) Counter(l)[39] -> 1\n",
    "- most_common() 리스트 빈도 순 정렬 형태 반환, 원소는 (숫자, 빈도)"
   ]
  },
  {
   "cell_type": "code",
   "execution_count": 2,
   "id": "c47a289b",
   "metadata": {},
   "outputs": [
    {
     "name": "stdout",
     "output_type": "stream",
     "text": [
      "39\n",
      "40\n",
      "41\n",
      "42\n",
      "43\n",
      "44\n",
      "82\n",
      "83\n",
      "84\n",
      "85\n",
      "6\n"
     ]
    }
   ],
   "source": [
    "from collections import Counter\n",
    "\n",
    "l=[int(input())%42 for i in range(10)]\n",
    "print(len(Counter(l).most_common()))\n",
    "# 그냥 len(Counter(l))로 처리해도 됨"
   ]
  },
  {
   "cell_type": "code",
   "execution_count": 17,
   "id": "61a939bb",
   "metadata": {},
   "outputs": [
    {
     "data": {
      "text/plain": [
       "Counter({39: 1, 40: 2, 41: 2, 0: 2, 1: 2, 2: 1})"
      ]
     },
     "execution_count": 17,
     "metadata": {},
     "output_type": "execute_result"
    }
   ],
   "source": [
    "Counter(l)"
   ]
  },
  {
   "cell_type": "code",
   "execution_count": 16,
   "id": "98e084e0",
   "metadata": {},
   "outputs": [
    {
     "data": {
      "text/plain": [
       "[(40, 2), (41, 2), (0, 2), (1, 2), (39, 1), (2, 1)]"
      ]
     },
     "execution_count": 16,
     "metadata": {},
     "output_type": "execute_result"
    }
   ],
   "source": [
    "Counter(l).most_common()"
   ]
  },
  {
   "cell_type": "markdown",
   "id": "886f180c",
   "metadata": {},
   "source": [
    "### 1546 평균\n",
    "첫째 줄에 시험 본 과목의 개수 N이 주어진다. 이 값은 1000보다 작거나 같다. 둘째 줄에 세준이의 현재 성적이 주어진다. 이 값은 100보다 작거나 같은 음이 아닌 정수이고, 적어도 하나의 값은 0보다 크다.\n",
    "\n",
    "일단 세준이는 자기 점수 중에 최댓값을 골랐다. 이 값을 M이라고 한다. 그리고 나서 모든 점수를 점수/M*100으로 고쳤다.\n",
    "\n",
    "예를 들어, 세준이의 최고점이 70이고, 수학점수가 50이었으면 수학점수는 50/70*100이 되어 71.43점이 된다.\n",
    "\n",
    "세준이의 성적을 위의 방법대로 새로 계산했을 때, 새로운 평균을 구하는 프로그램을 작성하시오."
   ]
  },
  {
   "cell_type": "code",
   "execution_count": null,
   "id": "d96b6292",
   "metadata": {},
   "outputs": [],
   "source": [
    "num=int(input())\n",
    "num_sum=0\n",
    "score = list(map(int,input().split()))\n",
    "max_num = max(score)\n",
    "\n",
    "for i in range(num):\n",
    "    score[i] = (score[i]/max_num)*100\n",
    "    num_sum+=score[i]\n",
    "print(num_sum/num)"
   ]
  },
  {
   "cell_type": "markdown",
   "id": "f6b9da56",
   "metadata": {},
   "source": [
    "### 8958 OX 퀴즈\n",
    "OX 퀴즈의 결과를 일차원 배열로 입력받아 점수를 계산하는 문제\n",
    "\n",
    "\"OOXXOXXOOO\"와 같은 OX퀴즈의 결과가 있다. O는 문제를 맞은 것이고, X는 문제를 틀린 것이다. 문제를 맞은 경우 그 문제의 점수는 그 문제까지 연속된 O의 개수가 된다. 예를 들어, 10번 문제의 점수는 3이 된다.\n",
    "\n",
    "---\n",
    "- Deque 모듈 popleft() 활용"
   ]
  },
  {
   "cell_type": "code",
   "execution_count": null,
   "id": "3ba8ac25",
   "metadata": {},
   "outputs": [],
   "source": [
    "from collections import deque\n",
    "\n",
    "num = int(input())\n",
    "for i in range(num):\n",
    "    sequential=0\n",
    "    score_sum=0\n",
    "    deq = deque(input())\n",
    "    while(len(deq)!=0):\n",
    "        if (deq.popleft()==\"O\"):\n",
    "            score_sum+=1\n",
    "            score_sum+=sequential\n",
    "            sequential+=1\n",
    "        else:\n",
    "            sequential=0\n",
    "    print(score_sum)"
   ]
  },
  {
   "cell_type": "markdown",
   "id": "d5879637",
   "metadata": {},
   "source": [
    "### 4344 평균은 넘겠지\n",
    "대학생 새내기들의 90%는 자신이 반에서 평균은 넘는다고 생각한다. 당신은 그들에게 슬픈 진실을 알려줘야 한다.\n",
    "\n",
    "첫째 줄에는 테스트 케이스의 개수 C가 주어진다.\n",
    "\n",
    "둘째 줄부터 각 테스트 케이스마다 학생의 수 N(1 ≤ N ≤ 1000, N은 정수)이 첫 수로 주어지고, 이어서 N명의 점수가 주어진다. 점수는 0보다 크거나 같고, 100보다 작거나 같은 정수이다.\n",
    "\n",
    "각 케이스마다 한 줄씩 평균을 넘는 학생들의 비율을 반올림하여 소수점 셋째 자리까지 출력한다."
   ]
  },
  {
   "cell_type": "code",
   "execution_count": null,
   "id": "e4c1bb06",
   "metadata": {},
   "outputs": [],
   "source": [
    "case = int(input())\n",
    "for i in range(case):\n",
    "    arr = list(map(int, input().split()))\n",
    "    num = arr.pop(0)\n",
    "    avg = sum(arr)/num\n",
    "    count=0\n",
    "    for i in range(num):\n",
    "        if(arr[i]>avg):\n",
    "            count+=1\n",
    "            \n",
    "    print(\"{:.3f}%\".format(count/num*100))"
   ]
  },
  {
   "cell_type": "markdown",
   "id": "6d5df73d",
   "metadata": {},
   "source": [
    "# Chapter 5 함수"
   ]
  },
  {
   "cell_type": "markdown",
   "id": "e577b2d4",
   "metadata": {},
   "source": [
    "### 15596 정수 N개의 합\n",
    "정수 n개가 주어졌을 때, n개의 합을 구하는 함수를 작성."
   ]
  },
  {
   "cell_type": "code",
   "execution_count": null,
   "id": "6dcdfc1b",
   "metadata": {},
   "outputs": [],
   "source": [
    "def solve(a:list)->int:\n",
    "    return sum(a)"
   ]
  },
  {
   "cell_type": "markdown",
   "id": "95403eb5",
   "metadata": {},
   "source": [
    "### 4673 셀프 넘버\n",
    "---\n",
    "셀프 넘버는 1949년 인도 수학자 D.R. Kaprekar가 이름 붙였다. 양의 정수 n에 대해서 d(n)을 n과 n의 각 자리수를 더하는 함수라고 정의하자. 예를 들어, d(75) = 75+7+5 = 87이다.\n",
    "\n",
    "양의 정수 n이 주어졌을 때, 이 수를 시작해서 n, d(n), d(d(n)), d(d(d(n))), ...과 같은 무한 수열을 만들 수 있다. \n",
    "\n",
    "예를 들어, 33으로 시작한다면 다음 수는 33 + 3 + 3 = 39이고, 그 다음 수는 39 + 3 + 9 = 51, 다음 수는 51 + 5 + 1 = 57이다. 이런식으로 다음과 같은 수열을 만들 수 있다.\n",
    "\n",
    "33, 39, 51, 57, 69, 84, 96, 111, 114, 120, 123, 129, 141, ...\n",
    "\n",
    "n을 d(n)의 생성자라고 한다. 위의 수열에서 33은 39의 생성자이고, 39는 51의 생성자, 51은 57의 생성자이다. 생성자가 한 개보다 많은 경우도 있다. 예를 들어, 101은 생성자가 2개(91과 100) 있다. \n",
    "\n",
    "생성자가 없는 숫자를 셀프 넘버라고 한다. 100보다 작은 셀프 넘버는 총 13개가 있다. 1, 3, 5, 7, 9, 20, 31, 42, 53, 64, 75, 86, 97\n",
    "\n",
    "10000보다 작거나 같은 셀프 넘버를 한 줄에 하나씩 출력하는 프로그램을 작성."
   ]
  },
  {
   "cell_type": "code",
   "execution_count": null,
   "id": "35d4cc65",
   "metadata": {},
   "outputs": [],
   "source": [
    "def selfplus(a:int)->int:\n",
    "    num_list = list(map(int,str(a)))\n",
    "    return a+sum(num_list)\n",
    "\n",
    "num = list(range(1,10001))\n",
    "\n",
    "for i in range(1,len(num)+1):\n",
    "    a=selfplus(i)\n",
    "    if(a in num):\n",
    "        num.remove(a)\n",
    "\n",
    "for i in range(len(num)):\n",
    "    print(num[i])"
   ]
  },
  {
   "cell_type": "markdown",
   "id": "b0216101",
   "metadata": {},
   "source": [
    "### 1065 한수\n",
    "어떤 양의 정수 X의 각 자리가 등차수열을 이룬다면, 그 수를 한수라고 한다. 등차수열은 연속된 두 개의 수의 차이가 일정한 수열을 말한다. N이 주어졌을 때, 1보다 크거나 같고, N보다 작거나 같은 한수의 개수를 출력하는 프로그램을 작성하시오.\n",
    "\n",
    "- 99이하는 무조건 한수\n",
    "- 숫자 각 자리수로 찢어놓을때, list(map(int,str(숫자)))"
   ]
  },
  {
   "cell_type": "code",
   "execution_count": null,
   "id": "2150467a",
   "metadata": {},
   "outputs": [],
   "source": [
    "a = int(input())\n",
    "counter=0\n",
    "if(a<100):\n",
    "    counter+=a\n",
    "\n",
    "elif(100<=a):\n",
    "    counter+=99\n",
    "    for i in range(100,a+1):\n",
    "        num_list = list(map(int,str(i)))\n",
    "        if((num_list[1]-num_list[0])==(num_list[2]-num_list[1])):\n",
    "            counter+=1     \n",
    "    \n",
    "print(counter)"
   ]
  }
 ],
 "metadata": {
  "kernelspec": {
   "display_name": "Python 3 (ipykernel)",
   "language": "python",
   "name": "python3"
  },
  "language_info": {
   "codemirror_mode": {
    "name": "ipython",
    "version": 3
   },
   "file_extension": ".py",
   "mimetype": "text/x-python",
   "name": "python",
   "nbconvert_exporter": "python",
   "pygments_lexer": "ipython3",
   "version": "3.9.15"
  }
 },
 "nbformat": 4,
 "nbformat_minor": 5
}

{
 "cells": [
  {
   "cell_type": "markdown",
   "id": "da12f7bf",
   "metadata": {},
   "source": [
    "# Chapter 2 비교문"
   ]
  },
  {
   "cell_type": "markdown",
   "id": "2f856d4c",
   "metadata": {},
   "source": [
    "### 1330 두 수 비교하기 \n",
    "두 수를 비교한 결과를 출력하는 문제\n",
    "- print문 안에서 조건 판별"
   ]
  },
  {
   "cell_type": "code",
   "execution_count": null,
   "id": "4bc7f163",
   "metadata": {},
   "outputs": [],
   "source": [
    "a,b=map(int,input().split())\n",
    "print((('<','>')[a>b],'==')[a==b])"
   ]
  },
  {
   "cell_type": "markdown",
   "id": "3d2392d1",
   "metadata": {},
   "source": [
    "### 9498 시험 성적\n",
    "시험 점수를 성적으로 바꾸는 문제\n",
    "- print문 다중 조건 활용 가능한 점"
   ]
  },
  {
   "cell_type": "code",
   "execution_count": null,
   "id": "82874ba8",
   "metadata": {},
   "outputs": [],
   "source": [
    "a = int(input())\n",
    "print((((('A','B')[a<90],'C')[a<80],'D')[a<70],'F')[a<60])"
   ]
  },
  {
   "cell_type": "markdown",
   "id": "453adbd2",
   "metadata": {},
   "source": [
    "### 2753 윤년\n",
    "윤년을 판별하는 문제"
   ]
  },
  {
   "cell_type": "code",
   "execution_count": null,
   "id": "703bca11",
   "metadata": {},
   "outputs": [],
   "source": [
    "a = int(input())\n",
    "print(('0','1')[(a%4==0 and a%400==0)or(a%4==0 and a%100!=0)])"
   ]
  },
  {
   "cell_type": "markdown",
   "id": "d1b7aa5e",
   "metadata": {},
   "source": [
    "### 14681 사분면 고르기\n",
    "점이 어느 사분면에 있는지 알아내는 문제"
   ]
  },
  {
   "cell_type": "code",
   "execution_count": null,
   "id": "7c81332e",
   "metadata": {},
   "outputs": [],
   "source": [
    "a=int(input())\n",
    "b=int(input())\n",
    "print((('1','4')[b<0],('2','3')[b<0])[a<0])"
   ]
  },
  {
   "cell_type": "markdown",
   "id": "f744c6b8",
   "metadata": {},
   "source": [
    "### 2884 알람 시계\n",
    "시간 계산 문제\n",
    "- 24시간 표현 시 구간 잘 나누기"
   ]
  },
  {
   "cell_type": "code",
   "execution_count": null,
   "id": "67696ed2",
   "metadata": {},
   "outputs": [],
   "source": [
    "H,M = input().split();H = int(H);M = int(M)\n",
    "if(M-45<0):\n",
    "    if(H-1<0):\n",
    "        print(H+23,M+15)\n",
    "    else:\n",
    "        print(H-1,M+15)\n",
    "else:\n",
    "    print(H,M-45)"
   ]
  },
  {
   "cell_type": "markdown",
   "id": "3ed6df53",
   "metadata": {},
   "source": [
    "### 2525 오븐 시계\n",
    "범위가 더 넓은 시간 계산 문제"
   ]
  },
  {
   "cell_type": "code",
   "execution_count": null,
   "id": "5e4103c6",
   "metadata": {},
   "outputs": [],
   "source": [
    "H,M=map(int,input().split());t=int(input())\n",
    "print((H+int((M+t)/60))%24,(M+t)%60)"
   ]
  },
  {
   "cell_type": "markdown",
   "id": "6b0b1d02",
   "metadata": {},
   "source": [
    "### 2480 주사위 세개\n",
    "조건에 따라 상금을 계산하는 문제\n",
    "- Counter 모듈 import 및 활용"
   ]
  },
  {
   "cell_type": "code",
   "execution_count": null,
   "id": "cd79c912",
   "metadata": {},
   "outputs": [],
   "source": [
    "from collections import Counter\n",
    "a,b,c=map(int,input().split())\n",
    "s = [a,b,c]\n",
    "s = sorted(s)\n",
    "print(((10000+s[2]*1000,1000+s[1]*100)[len(Counter(s).most_common(3))>1],s[2]*100)[len(Counter(s).most_common(3))>2])"
   ]
  },
  {
   "cell_type": "markdown",
   "id": "6d5111b9",
   "metadata": {},
   "source": [
    "# Chapter 3 반복문"
   ]
  },
  {
   "cell_type": "markdown",
   "id": "488f0e4a",
   "metadata": {},
   "source": [
    "### 2739 구구단\n",
    "구구단을 출력하는 문제\n",
    "- print 안에서 format 맞춰서 출력하기"
   ]
  },
  {
   "cell_type": "code",
   "execution_count": null,
   "id": "3fa70be6",
   "metadata": {},
   "outputs": [],
   "source": [
    "a = int(input())\n",
    "for i in range(1,10):\n",
    "    print('{0} * {1} = {2}'.format(a,i,a*i))"
   ]
  },
  {
   "cell_type": "markdown",
   "id": "a963ac07",
   "metadata": {},
   "source": [
    "### 10950 A+B (3)\n",
    "A+B를 여러 번 출력하는 문제"
   ]
  },
  {
   "cell_type": "code",
   "execution_count": null,
   "id": "f8066294",
   "metadata": {},
   "outputs": [],
   "source": [
    "c = int(input())\n",
    "for i in range(1,c+1):\n",
    "    a,b=map(int,input().split())\n",
    "    print(a+b)"
   ]
  },
  {
   "cell_type": "markdown",
   "id": "648756cf",
   "metadata": {},
   "source": [
    "### 8393 합\n",
    "1부터 N까지의 합을 구하는 문제. 물론 반복문 없이 풀 수도 있다."
   ]
  },
  {
   "cell_type": "code",
   "execution_count": null,
   "id": "3b0cc9f2",
   "metadata": {},
   "outputs": [],
   "source": [
    "a = int(input())\n",
    "print(int(a*(a+1)/2))"
   ]
  },
  {
   "cell_type": "markdown",
   "id": "b86c16ca",
   "metadata": {},
   "source": [
    "### 25304 영수증\n",
    "구매한 물건의 가격과 개수로 계산한 총 금액이 영수증의 총 금액과 일치하는지 검사"
   ]
  },
  {
   "cell_type": "code",
   "execution_count": null,
   "id": "0a460006",
   "metadata": {},
   "outputs": [],
   "source": [
    "total = int(input())\n",
    "number = int(input())\n",
    "price = 0\n",
    "\n",
    "for i in range(number):\n",
    "    a,b = map(int,input().split())\n",
    "    price += a*b\n",
    "\n",
    "if(total == price):\n",
    "    print(\"Yes\")\n",
    "else:\n",
    "    print(\"No\")"
   ]
  },
  {
   "cell_type": "markdown",
   "id": "532758c6",
   "metadata": {},
   "source": [
    "### 15552 빠른 A+B\n",
    "빠르게 입력받고 출력하는 문제\n",
    "- 본격적으로 for문 문제를 풀기 전에 주의해야 할 점이 있다. 입출력 방식이 느리면 여러 줄을 입력받거나 출력할 때 시간초과가 날 수 있다는 점.\n",
    "---\n",
    "- Python을 사용하고 있다면, input 대신 sys.stdin.readline을 사용할 수 있다. 단, 이때는 맨 끝의 개행문자까지 같이 입력받기 때문에 문자열을 저장하고 싶을 경우 .rstrip()을 추가로 해 주는 것이 좋다.\n",
    "---\n",
    "- rstrip을 하라는 건 문자열 자체를 변수에 저장하고 싶을 때 얘기지, 개행문자가 맨 끝에 들어와도 int 변환이나 split()을 그대로 할 수 있습니다. 즉 int(sys.stdin.readline()), sys.stdin.readline().split() 이렇게 해도 아무 문제 없습니다. 참고로 이름이 꽤 길기 때문에 저는 input = sys.stdin.readline을 맨 처음에 함으로써 쓰는 편입니다."
   ]
  },
  {
   "cell_type": "code",
   "execution_count": null,
   "id": "27cd08ff",
   "metadata": {},
   "outputs": [],
   "source": [
    "import sys\n",
    "case = int(input())\n",
    "for i in range(case):\n",
    "    a,b = map(int,sys.stdin.readline().split())\n",
    "    print(a+b)"
   ]
  },
  {
   "cell_type": "markdown",
   "id": "c99328ba",
   "metadata": {},
   "source": [
    "### 11021 A+B (7)\n",
    "A+B를 조금 더 아름답게 출력하는 문제"
   ]
  },
  {
   "cell_type": "code",
   "execution_count": null,
   "id": "09a55399",
   "metadata": {},
   "outputs": [],
   "source": [
    "import sys\n",
    "case = int(input())\n",
    "for i in range(case):\n",
    "    a,b = map(int,sys.stdin.readline().split())\n",
    "    print('Case #{0}: {1}'.format(i+1,a+b))"
   ]
  },
  {
   "cell_type": "markdown",
   "id": "c7a40a71",
   "metadata": {},
   "source": [
    "### 11022 A+B (8)\n",
    "A+B를 바로 위 문제보다 아름답게 출력하는 문제"
   ]
  },
  {
   "cell_type": "code",
   "execution_count": null,
   "id": "e38f97b6",
   "metadata": {},
   "outputs": [],
   "source": [
    "import sys\n",
    "case = int(input())\n",
    "for i in range(case):\n",
    "    a,b = map(int,sys.stdin.readline().split())\n",
    "    print('Case #{0}: {1} + {2} = {3}'.format(i+1,a,b,a+b))"
   ]
  },
  {
   "cell_type": "markdown",
   "id": "db8efbe9",
   "metadata": {},
   "source": [
    "### 2438 별 찍기 (1)\n",
    "별을 찍는 문제\n",
    "- range 함수 1부터 시작해야 제대로 출력 형식 맞추는 점"
   ]
  },
  {
   "cell_type": "code",
   "execution_count": null,
   "id": "e2580c12",
   "metadata": {},
   "outputs": [],
   "source": [
    "n = int(input())\n",
    "for i in range(1,n+1):\n",
    "    print('*'*i)"
   ]
  },
  {
   "cell_type": "markdown",
   "id": "f7c0a973",
   "metadata": {},
   "source": [
    "### 2439 별 찍기 (2)\n",
    "첫줄 공백이 가장 길도록 별 찍기\n",
    "- print 문 출력 시 '+'로 이어줘야 공백없이 이어서 출력, 쉼표로 분리하면 공백 삽입"
   ]
  },
  {
   "cell_type": "code",
   "execution_count": null,
   "id": "9c947cda",
   "metadata": {},
   "outputs": [],
   "source": [
    "n = int(input())\n",
    "for i in range(1,n+1):\n",
    "    print(' '*(n-i)+'*'*i)"
   ]
  },
  {
   "cell_type": "markdown",
   "id": "a165798a",
   "metadata": {},
   "source": [
    "### 10952 A+B (5)\n",
    "'00'이 들어올 때까지 A+B를 출력하는 문제"
   ]
  },
  {
   "cell_type": "code",
   "execution_count": null,
   "id": "2aefa905",
   "metadata": {},
   "outputs": [],
   "source": [
    "while(1):\n",
    "    a,b = map(int,input().split())\n",
    "    if (a==0 & b==0):\n",
    "        break\n",
    "    print(a+b)"
   ]
  },
  {
   "cell_type": "markdown",
   "id": "1088f22d",
   "metadata": {},
   "source": [
    "### 10951 A+B (4)\n",
    "입력이 끝날 때까지 A+B를 출력하는 문제. EOF 알아보기\n",
    "- try-except 구문 (try-except-else-finally)구문으로 에러 대비에 활용"
   ]
  },
  {
   "cell_type": "code",
   "execution_count": null,
   "id": "e4f6727d",
   "metadata": {},
   "outputs": [],
   "source": [
    "while True:\n",
    "    try:\n",
    "        A, B = map(int, input().split())\n",
    "        print(A+B)\n",
    "    except:\n",
    "        break"
   ]
  },
  {
   "cell_type": "markdown",
   "id": "4a116764",
   "metadata": {},
   "source": [
    "### 1110 더하기 사이클\n",
    "\n",
    "- 원래 수로 돌아올 때까지 연산을 반복하는 문제\n",
    "---\n",
    "0보다 크거나 같고, 99보다 작거나 같은 정수가 주어질 때 다음과 같은 연산을 할 수 있다. 먼저 주어진 수가 10보다 작다면 앞에 0을 붙여 두 자리 수로 만들고, 각 자리의 숫자를 더한다. 그 다음, 주어진 수의 가장 오른쪽 자리 수와 앞에서 구한 합의 가장 오른쪽 자리 수를 이어 붙이면 새로운 수를 만들 수 있다."
   ]
  },
  {
   "cell_type": "code",
   "execution_count": null,
   "id": "170b4344",
   "metadata": {},
   "outputs": [],
   "source": [
    "# 풀이 1\n",
    "count=0;origin=0\n",
    "num = int(input())\n",
    "origin=num\n",
    "\n",
    "\n",
    "while(1):\n",
    "    if (num<10):\n",
    "        num = (num*10)+num\n",
    "        count+=1\n",
    "    else:\n",
    "        num = int(((num/10)+(num%10))%10 + 10*(num%10))  \n",
    "        count+=1\n",
    "        \n",
    "    if(num == origin):\n",
    "        print(count)\n",
    "        break"
   ]
  },
  {
   "cell_type": "code",
   "execution_count": null,
   "id": "39978088",
   "metadata": {},
   "outputs": [],
   "source": [
    "# 풀이 2\n",
    "a = int(input())\n",
    "b = a\n",
    "count = 0\n",
    "while True:\n",
    "        a = ((a%10)*10 + ((a//10)+(a%10)) % 10)\n",
    "        count += 1\n",
    "        if a == b:\n",
    "            print(count)\n",
    "            break"
   ]
  }
 ],
 "metadata": {
  "kernelspec": {
   "display_name": "Python 3 (ipykernel)",
   "language": "python",
   "name": "python3"
  },
  "language_info": {
   "codemirror_mode": {
    "name": "ipython",
    "version": 3
   },
   "file_extension": ".py",
   "mimetype": "text/x-python",
   "name": "python",
   "nbconvert_exporter": "python",
   "pygments_lexer": "ipython3",
   "version": "3.9.15"
  }
 },
 "nbformat": 4,
 "nbformat_minor": 5
}
